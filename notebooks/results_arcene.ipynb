{
 "cells": [
  {
   "cell_type": "code",
   "execution_count": 1,
   "metadata": {},
   "outputs": [],
   "source": [
    "import json \n",
    "import pandas as pd\n",
    "import matplotlib.pyplot as plt\n",
    "import os\n",
    "import numpy as np\n",
    "from sklearn.metrics import jaccard_score\n",
    "import sys \n",
    "from tqdm.notebook import tqdm\n",
    "import sklearn.feature_extraction.text as ft \n",
    "\n"
   ]
  },
  {
   "cell_type": "code",
   "execution_count": 2,
   "metadata": {},
   "outputs": [],
   "source": [
    "sys.path.insert(0, '../')\n",
    "import src.preprocessing.text_preprocessing as tp"
   ]
  },
  {
   "cell_type": "code",
   "execution_count": 3,
   "metadata": {},
   "outputs": [],
   "source": [
    "plt.rcParams['text.usetex'] = False"
   ]
  },
  {
   "cell_type": "code",
   "execution_count": 4,
   "metadata": {},
   "outputs": [],
   "source": [
    "FOLDER = 'arcene'\n",
    "base_path = '../results/'\n",
    "path = f'{base_path}{FOLDER}/'\n",
    "full_paths = [f'{path}{file}' for file in os.listdir(path)]\n"
   ]
  },
  {
   "cell_type": "code",
   "execution_count": 5,
   "metadata": {},
   "outputs": [],
   "source": [
    "files = {}\n",
    "for p in full_paths:\n",
    "    name = p.split('/')[-1]\n",
    "    if name == 'results_ppfs.json':\n",
    "        continue # handle separately together with baseline\n",
    "        if 'ppfs' not in files:\n",
    "            files['ppfs'] = {}\n",
    "        with open(p, 'r') as file:\n",
    "            f = json.load(file)\n",
    "        files['ppfs'][f['n_words'][0]] = f\n",
    "        continue\n",
    "    split = name.split('_')\n",
    "    method = '_'.join(split[1:-1])\n",
    "    n_words = split[-1].split('.')[0]\n",
    "    with open(p, 'r') as file:\n",
    "        if method not in files:\n",
    "            files[method] = {}\n",
    "        files[method][n_words] = json.load(file)\n",
    "    "
   ]
  },
  {
   "cell_type": "code",
   "execution_count": 6,
   "metadata": {},
   "outputs": [],
   "source": [
    "methods_renames = {\n",
    "    'shap': 'SHAP',\n",
    "    'term_strength': 'TS',\n",
    "    'trl': 'TRL',\n",
    "    'eccd': 'ECCD',\n",
    "    'mutual_information': 'MI',\n",
    "    'chi2': 'chi2',\n",
    "    'tfidf': 'TF-IDF',\n",
    "    'linear_measure_5': 'LM',\n",
    "    'lfs': 'LFS',\n",
    "    'baseline': 'Baseline',\n",
    "    'ppfs': 'PPFS',\n",
    "    'f_val': 'F-stat'\n",
    "}"
   ]
  },
  {
   "cell_type": "code",
   "execution_count": 7,
   "metadata": {},
   "outputs": [
    {
     "name": "stdout",
     "output_type": "stream",
     "text": [
      "10000\n"
     ]
    }
   ],
   "source": [
    "tqdm.pandas()\n",
    "df = pd.read_csv('../data/arcene/arcene.csv', sep=';', index_col=0)\n",
    "df = df.fillna('')\n",
    "df = df.astype('float')\n",
    "df['Class'] = df['Class'].astype('category')\n",
    "df['Class'] = df['Class'].cat.codes\n",
    "\n",
    "\n",
    "vocabulary = df.columns[:-1]\n",
    "print(len(vocabulary))"
   ]
  },
  {
   "cell_type": "code",
   "execution_count": 17,
   "metadata": {},
   "outputs": [],
   "source": [
    "TEST_TRAIN = 'test'"
   ]
  },
  {
   "cell_type": "code",
   "execution_count": 9,
   "metadata": {},
   "outputs": [],
   "source": [
    "def get_extractor_timings(files: dict) -> pd.DataFrame:\n",
    "    methods = files.keys()\n",
    "    df = pd.DataFrame(columns=methods)\n",
    "    n_words_list = set()\n",
    "    method_list = set()\n",
    "    for method, words_dict in files.items():\n",
    "        method_list.add(method)\n",
    "        for n_words, info in words_dict.items():\n",
    "                df.loc[n_words, method] = info['timing']['extractor_fit']\n",
    "                n_words_list.add(n_words)\n",
    "                \n",
    "    df.index = df.index.astype('int')\n",
    "    df = df.sort_index()\n",
    "    df = df.apply(pd.to_timedelta)\n",
    "    for col in df.columns:\n",
    "        df[col] = df[col].dt.total_seconds()\n",
    "    return df, method_list, n_words_list\n",
    "\n",
    "def plot_extractors_timings(df) -> plt.figure:\n",
    "    df = df.copy(deep=True)\n",
    "    df = df.rename(columns=methods_renames)\n",
    "    axes = df.plot(logy=True, logx=True, figsize=(16, 10))\n",
    "    axes.set_xlabel('# selected variables')\n",
    "    axes.set_ylabel('runtime (sec)')\n",
    "    # axes.set_label('runtime (sec)')\n",
    "    axes.legend(loc=\"lower right\")\n",
    "\n",
    "    # plt.title('Feature extractor runtimes vs number of the selected words.')\n",
    "    plt.savefig('../figures/arcene/arcene_extractor_runtime_vs_n_words.pdf', bbox_inches=\"tight\")\n",
    "    plt.close()\n",
    "\n",
    "def get_selected_words_per_extractor_per_n_words(files: dict, vocabulary, n_words_list, method_list):\n",
    "    df_dict = {}\n",
    "\n",
    "    for n_words in n_words_list:\n",
    "        df_dict[n_words] = pd.DataFrame(index=vocabulary, columns=list(method_list)).fillna(0)\n",
    "\n",
    "    for method, words_dict in files.items():\n",
    "        for n_words, info in words_dict.items():\n",
    "            df_dict[n_words].loc[info['selected_vocabulary'][0], method] = 1\n",
    "    return df_dict\n",
    "\n",
    "def get_cross_jaccard_score(df):\n",
    "    methods = df.columns.tolist()\n",
    "    jaccard_df = pd.DataFrame(index=methods, columns=methods)\n",
    "    for method_1 in methods:\n",
    "        for method_2 in methods:\n",
    "            jaccard_df.loc[method_1, method_2] = jaccard_score(df[method_1], df[method_2])\n",
    "    return jaccard_df\n",
    "\n",
    "def get_similarity_metrics(df_dict):\n",
    "    correlations_dict = {}\n",
    "    jaccard_score_dict = {}\n",
    "    for n_words, df in df_dict.items():\n",
    "        df_filtered = df.loc[:,(df.sum(axis=0) != 0).values] # remove lfs (or other methods) when they have no values\n",
    "        correlations_dict[n_words] = df_filtered.corr() \n",
    "        jaccard_score_dict[n_words] = get_cross_jaccard_score(df_filtered)\n",
    "    \n",
    "    return correlations_dict, jaccard_score_dict\n",
    "\n",
    "def compare_shap_over_n_words_set_similarity(df_dict: dict, n_words_list, method_list):\n",
    "    df_comp = pd.DataFrame(columns=method_list, index=n_words_list)\n",
    "    for n_words, df in df_dict.items():\n",
    "        cols = df.columns\n",
    "        df_comp.loc[n_words, cols] = df['shap'][cols]\n",
    "    df_comp.index = df_comp.index.astype('int')\n",
    "    df_comp = df_comp.sort_index()\n",
    "    df_comp = df_comp.drop(columns=['shap'])\n",
    "    return df_comp\n",
    "\n",
    "def compare_performance_over_n_words(files, n_words_list, method_list, baseline=None, ppfs=None):\n",
    "    metrics = ['precision', 'recall', 'f1-score']\n",
    "    cols = []\n",
    "    for method in method_list:\n",
    "        for metric in metrics:\n",
    "            cols.append((method, f'{metric}_mean'))\n",
    "            cols.append((method, f'{metric}_std'))\n",
    "    df_metrics = pd.DataFrame(columns=pd.MultiIndex.from_tuples(cols), index=n_words_list)\n",
    "\n",
    "    for method, words_dict in files.items():\n",
    "        for n_words, info in words_dict.items():\n",
    "            for metric in metrics:\n",
    "                df_metrics.loc[n_words, (method, f'{metric}_mean')] = info[f'classification_report_{TEST_TRAIN}']['macro avg'][f'{metric}_mean']\n",
    "                df_metrics.loc[n_words, (method, f'{metric}_std')] = info[f'classification_report_{TEST_TRAIN}']['macro avg'][f'{metric}_std']\n",
    "    if baseline is not None:\n",
    "        for n_words in n_words_list:\n",
    "            for metric in metrics:\n",
    "                df_metrics.loc[n_words, ('baseline',f'{metric}_mean')] = baseline['macro avg'][f'{metric}_mean']\n",
    "                df_metrics.loc[n_words, ('baseline',f'{metric}_std')] = baseline['macro avg'][f'{metric}_std']\n",
    "    \n",
    "    if ppfs is not None:\n",
    "        for n_words in n_words_list:\n",
    "            for metric in metrics:\n",
    "                df_metrics.loc[n_words, ('ppfs',f'{metric}_mean')] = ppfs['macro avg'][f'{metric}_mean']\n",
    "                df_metrics.loc[n_words, ('ppfs',f'{metric}_std')] = ppfs['macro avg'][f'{metric}_std']\n",
    "\n",
    "    df_metrics.index = df_metrics.index.astype('int')\n",
    "    df_metrics = df_metrics.sort_index()\n",
    "    return df_metrics\n",
    "\n",
    "def plot_performance_metrics(df_metrics, metrics_to_plot, methods_to_plot):\n",
    "    for metric in metrics_to_plot:\n",
    "        fig, ax = plt.subplots(figsize=(9,5))\n",
    "\n",
    "        for method in methods_to_plot:\n",
    "            errbar = ax.errorbar(x=df_metrics.index, y=df_metrics.loc[:, (method, f'{metric}_mean')], yerr=df_metrics.loc[:, (method, f'{metric}_std')], label=methods_renames[method], alpha=0.5, linestyle='dashed', fmt='--', barsabove=True, elinewidth=2, linewidth=1)\n",
    "            errbar[-1][0].set_linestyle(':')\n",
    "        ax.set_xscale('log')\n",
    "        ax.set_ylabel('log')\n",
    "        ax.set_xlabel('# of kept words')\n",
    "        ax.set_ylabel(f'{metric}')\n",
    "        ax.legend()\n",
    "        plt.title(f'Arcene corpus {metric} vs # of removed words.')\n",
    "        plt.savefig(f'../figures/arcene/arcene_perf_{metric}_remove_{TEST_TRAIN}.pdf')\n",
    "        plt.close()"
   ]
  },
  {
   "cell_type": "code",
   "execution_count": 12,
   "metadata": {},
   "outputs": [],
   "source": [
    "df, method_list, n_words_list = get_extractor_timings(files)\n",
    "df.to_csv(f'../figures/csv_outputs/timings/arcene_n_word_timings.csv', sep=';')\n",
    "plot_extractors_timings(df)"
   ]
  },
  {
   "cell_type": "code",
   "execution_count": 13,
   "metadata": {},
   "outputs": [],
   "source": [
    "df_dict = get_selected_words_per_extractor_per_n_words(files, vocabulary, n_words_list, method_list)\n",
    "correlations_dict, jaccard_score_dict = get_similarity_metrics(df_dict)"
   ]
  },
  {
   "cell_type": "code",
   "execution_count": 14,
   "metadata": {},
   "outputs": [],
   "source": [
    "# shap_correlations = compare_shap_over_n_words_set_similarity(correlations_dict, n_words_list, method_list)\n",
    "shap_jaccard = compare_shap_over_n_words_set_similarity(jaccard_score_dict, n_words_list, method_list)\n",
    "# shap_correlations.to_csv('../results/tables/brown_correlations.csv', sep=';')\n",
    "shap_jaccard.to_csv(f'../figures/csv_outputs/jaccard/arcene_jaccard_{TEST_TRAIN}.csv', sep=';')"
   ]
  },
  {
   "cell_type": "code",
   "execution_count": 15,
   "metadata": {},
   "outputs": [],
   "source": [
    "with open('../results/arcene_baseline.json', 'r') as file:\n",
    "    baseline_arcene = json.load(file)\n",
    "\n",
    "with open('../results/arcene/results_ppfs.json', 'r') as file:\n",
    "    ppfs_arcene = json.load(file)"
   ]
  },
  {
   "cell_type": "code",
   "execution_count": 16,
   "metadata": {},
   "outputs": [],
   "source": [
    "df_metrics = compare_performance_over_n_words(files, \n",
    "                                                n_words_list,\n",
    "                                                method_list, \n",
    "                                                baseline=baseline_arcene[f'classification_report_{TEST_TRAIN}'],\n",
    "                                                ppfs=ppfs_arcene[f'classification_report_{TEST_TRAIN}']) \n",
    "df_metrics.to_csv(f'../figures/csv_outputs/metrics/arcene_performance_{TEST_TRAIN}.csv', sep=';')"
   ]
  },
  {
   "cell_type": "code",
   "execution_count": 128,
   "metadata": {},
   "outputs": [],
   "source": [
    "methods = list(method_list)[:]\n",
    "methods.append('baseline')\n",
    "methods.append('ppfs')\n",
    "plot_performance_metrics(df_metrics, ['recall', 'precision', 'f1-score'], methods)"
   ]
  },
  {
   "cell_type": "code",
   "execution_count": 104,
   "metadata": {},
   "outputs": [],
   "source": [
    "jaccard_table = pd.read_csv('../results/tables/arcene_jaccard.csv', sep=';', index_col=0)\n",
    "jaccard_table.index.name = 'n_words'\n",
    "# jaccard_table = jaccard_table.drop(columns='lfs')"
   ]
  },
  {
   "cell_type": "code",
   "execution_count": 105,
   "metadata": {},
   "outputs": [
    {
     "name": "stdout",
     "output_type": "stream",
     "text": [
      "\\begin{table}\n",
      "\\centering\n",
      "\\caption{Jaccard score between Shapley values based method and the rest.}\n",
      "\\begin{tabular}{lrr}\n",
      "\\toprule\n",
      "{} &  F-stat &    MI \\\\\n",
      "n\\_words &         &       \\\\\n",
      "\\midrule\n",
      "10      &   0.000 & 0.000 \\\\\n",
      "100     &   0.010 & 0.031 \\\\\n",
      "500     &   0.044 & 0.046 \\\\\n",
      "1000    &   0.051 & 0.062 \\\\\n",
      "3000    &   0.186 & 0.180 \\\\\n",
      "5000    &   0.344 & 0.336 \\\\\n",
      "8000    &   0.667 & 0.697 \\\\\n",
      "\\bottomrule\n",
      "\\end{tabular}\n",
      "\\end{table}\n",
      "\n"
     ]
    }
   ],
   "source": [
    "with pd.option_context('display.float_format', '{:,.3f}'.format):\n",
    "    jaccard_table = jaccard_table.rename(columns=methods_renames)\n",
    "    print(jaccard_table.to_latex(caption='Jaccard score between Shapley values based method and the rest.'))"
   ]
  },
  {
   "cell_type": "code",
   "execution_count": 20,
   "metadata": {},
   "outputs": [
    {
     "name": "stdout",
     "output_type": "stream",
     "text": [
      "\\begin{table}\n",
      "\\centering\n",
      "\\caption{Jaccard score between the methods at 3000 kept words.}\n",
      "\\begin{tabular}{lllllllll}\n",
      "\\toprule\n",
      "{} & TF-IDF &    LM &   TRL &  ECCD &    TS &  SHAP &    MI &  chi2 \\\\\n",
      "\\midrule\n",
      "TF-IDF &  1.000 & 0.536 & 0.477 & 0.674 & 0.630 & 0.357 & 0.719 & 0.777 \\\\\n",
      "LM     &  0.536 & 1.000 & 0.403 & 0.537 & 0.740 & 0.435 & 0.644 & 0.545 \\\\\n",
      "TRL    &  0.477 & 0.403 & 1.000 & 0.352 & 0.477 & 0.348 & 0.532 & 0.399 \\\\\n",
      "ECCD   &  0.674 & 0.537 & 0.352 & 1.000 & 0.544 & 0.336 & 0.581 & 0.817 \\\\\n",
      "TS     &  0.630 & 0.740 & 0.477 & 0.544 & 1.000 & 0.396 & 0.795 & 0.592 \\\\\n",
      "SHAP   &  0.357 & 0.435 & 0.348 & 0.336 & 0.396 & 1.000 & 0.362 & 0.354 \\\\\n",
      "MI     &  0.719 & 0.644 & 0.532 & 0.581 & 0.795 & 0.362 & 1.000 & 0.672 \\\\\n",
      "chi2   &  0.777 & 0.545 & 0.399 & 0.817 & 0.592 & 0.354 & 0.672 & 1.000 \\\\\n",
      "\\bottomrule\n",
      "\\end{tabular}\n",
      "\\end{table}\n",
      "\n"
     ]
    }
   ],
   "source": [
    "jaccard_3000_df = jaccard_score_dict['15000']\n",
    "jaccard_3000_df = jaccard_3000_df.rename(columns=methods_renames)\n",
    "jaccard_3000_df = jaccard_3000_df.rename(index=methods_renames)\n",
    "with pd.option_context('display.float_format', '{:,.3f}'.format):\n",
    "    print(jaccard_3000_df.to_latex(caption='Jaccard score between the methods at 3000 kept variables.'))\n"
   ]
  },
  {
   "cell_type": "code",
   "execution_count": null,
   "metadata": {},
   "outputs": [],
   "source": []
  }
 ],
 "metadata": {
  "kernelspec": {
   "display_name": "Python 3.9.10 64-bit",
   "language": "python",
   "name": "python3"
  },
  "language_info": {
   "codemirror_mode": {
    "name": "ipython",
    "version": 3
   },
   "file_extension": ".py",
   "mimetype": "text/x-python",
   "name": "python",
   "nbconvert_exporter": "python",
   "pygments_lexer": "ipython3",
   "version": "3.9.10"
  },
  "orig_nbformat": 4,
  "vscode": {
   "interpreter": {
    "hash": "aee8b7b246df8f9039afb4144a1f6fd8d2ca17a180786b69acc140d282b71a49"
   }
  }
 },
 "nbformat": 4,
 "nbformat_minor": 2
}
