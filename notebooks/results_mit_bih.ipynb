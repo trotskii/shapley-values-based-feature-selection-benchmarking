{
 "cells": [
  {
   "cell_type": "code",
   "execution_count": 4,
   "metadata": {},
   "outputs": [],
   "source": [
    "import json \n",
    "import pandas as pd\n",
    "import matplotlib.pyplot as plt\n",
    "import os\n",
    "import numpy as np\n",
    "from sklearn.metrics import jaccard_score\n",
    "import sys \n",
    "from tqdm.notebook import tqdm\n",
    "import sklearn.feature_extraction.text as ft \n",
    "\n"
   ]
  },
  {
   "cell_type": "code",
   "execution_count": 5,
   "metadata": {},
   "outputs": [],
   "source": [
    "sys.path.insert(0, '../')\n",
    "import src.preprocessing.text_preprocessing as tp"
   ]
  },
  {
   "cell_type": "code",
   "execution_count": 6,
   "metadata": {},
   "outputs": [],
   "source": [
    "plt.rcParams['text.usetex'] = False"
   ]
  },
  {
   "cell_type": "code",
   "execution_count": 7,
   "metadata": {},
   "outputs": [],
   "source": [
    "FOLDER = 'ecg_mit_half'\n",
    "base_path = '../results/'\n",
    "path = f'{base_path}{FOLDER}/'\n",
    "full_paths = [f'{path}{file}' for file in os.listdir(path)]\n"
   ]
  },
  {
   "cell_type": "code",
   "execution_count": 8,
   "metadata": {},
   "outputs": [],
   "source": [
    "files = {}\n",
    "for p in full_paths:\n",
    "    name = p.split('/')[-1]\n",
    "    split = name.split('_')\n",
    "    method = '_'.join(split[1:-1])\n",
    "    n_words = split[-1].split('.')[0]\n",
    "    with open(p, 'r') as file:\n",
    "        if method not in files:\n",
    "            files[method] = {}\n",
    "        files[method][n_words] = json.load(file)\n",
    "    "
   ]
  },
  {
   "cell_type": "code",
   "execution_count": 9,
   "metadata": {},
   "outputs": [],
   "source": [
    "tqdm.pandas()\n",
    "df = pd.read_csv('../data/mitdb_data/mitdb_ecg_half.csv', sep=';')\n",
    "vocabulary = df.columns.tolist()"
   ]
  },
  {
   "cell_type": "code",
   "execution_count": 10,
   "metadata": {},
   "outputs": [],
   "source": [
    "methods_renames = {\n",
    "    'shap': 'SHAP',\n",
    "    'term_strength': 'TS',\n",
    "    'trl': 'TRL',\n",
    "    'eccd': 'ECCD',\n",
    "    'mutual_information': 'MI',\n",
    "    'chi2': 'chi2',\n",
    "    'tfidf': 'TF-IDF',\n",
    "    'linear_measure_5': 'LM',\n",
    "    'lfs': 'LFS',\n",
    "    'f_val': 'F-stat',\n",
    "    'baseline': 'Baseline'\n",
    "}"
   ]
  },
  {
   "cell_type": "code",
   "execution_count": 20,
   "metadata": {},
   "outputs": [],
   "source": [
    "TEST_TRAIN = 'test'"
   ]
  },
  {
   "cell_type": "code",
   "execution_count": 12,
   "metadata": {},
   "outputs": [],
   "source": [
    "def get_extractor_timings(files: dict) -> pd.DataFrame:\n",
    "    methods = files.keys()\n",
    "    df = pd.DataFrame(columns=methods)\n",
    "    n_words_list = set()\n",
    "    method_list = set()\n",
    "    for method, words_dict in files.items():\n",
    "        method_list.add(method)\n",
    "        for n_words, info in words_dict.items():\n",
    "                df.loc[n_words, method] = info['timing']['extractor_fit']\n",
    "                n_words_list.add(n_words)\n",
    "                \n",
    "    df.index = df.index.astype('int')\n",
    "    df = df.sort_index()\n",
    "    df = df.apply(pd.to_timedelta)\n",
    "    for col in df.columns:\n",
    "        df[col] = df[col].dt.total_seconds()\n",
    "    return df, method_list, n_words_list\n",
    "\n",
    "def plot_extractors_timings(df) -> plt.figure:\n",
    "    axes = df.plot(logy=True, logx=True, figsize=(16, 10))\n",
    "    axes.set_xlabel('# selected features')\n",
    "    axes.set_ylabel('runtime (sec)')\n",
    "    axes.set_label('runtime (sec)')\n",
    "    plt.title('Feature extractor runtimes vs number of the selected featues.')\n",
    "    plt.savefig('../figures/mit_bih_half/mit_bih_extractor_runtime_vs_n_features.pdf')\n",
    "    plt.close()\n",
    "\n",
    "def get_selected_words_per_extractor_per_n_words(files: dict, vocabulary, n_words_list, method_list):\n",
    "    df_dict = {}\n",
    "\n",
    "    for n_words in n_words_list:\n",
    "        df_dict[n_words] = pd.DataFrame(index=vocabulary, columns=list(method_list)).fillna(0)\n",
    "\n",
    "    for method, words_dict in files.items():\n",
    "        for n_words, info in words_dict.items():\n",
    "            df_dict[n_words].loc[info['selected_vocabulary'][0], method] = 1\n",
    "    return df_dict\n",
    "\n",
    "def get_cross_jaccard_score(df):\n",
    "    methods = df.columns.tolist()\n",
    "    jaccard_df = pd.DataFrame(index=methods, columns=methods)\n",
    "    for method_1 in methods:\n",
    "        for method_2 in methods:\n",
    "            jaccard_df.loc[method_1, method_2] = jaccard_score(df[method_1], df[method_2])\n",
    "    return jaccard_df\n",
    "\n",
    "def get_similarity_metrics(df_dict):\n",
    "    correlations_dict = {}\n",
    "    jaccard_score_dict = {}\n",
    "    for n_words, df in df_dict.items():\n",
    "        df_filtered = df.loc[:,(df.sum(axis=0) != 0).values] # remove lfs (or other methods) when they have no values\n",
    "        correlations_dict[n_words] = df_filtered.corr() \n",
    "        jaccard_score_dict[n_words] = get_cross_jaccard_score(df_filtered)\n",
    "    \n",
    "    return correlations_dict, jaccard_score_dict\n",
    "\n",
    "def compare_shap_over_n_words_set_similarity(df_dict: dict, n_words_list, method_list):\n",
    "    df_comp = pd.DataFrame(columns=method_list, index=n_words_list)\n",
    "    for n_words, df in df_dict.items():\n",
    "        cols = df.columns\n",
    "        df_comp.loc[n_words, cols] = df['shap'][cols]\n",
    "    df_comp.index = df_comp.index.astype('int')\n",
    "    df_comp = df_comp.sort_index()\n",
    "    df_comp = df_comp.drop(columns=['shap'])\n",
    "    return df_comp\n",
    "\n",
    "def compare_performance_over_n_words(files, n_words_list, method_list, baseline=None):\n",
    "    metrics = ['precision', 'recall', 'f1-score']\n",
    "    cols = []\n",
    "    for method in method_list:\n",
    "        for metric in metrics:\n",
    "            cols.append((method, f'{metric}_mean'))\n",
    "            cols.append((method, f'{metric}_std'))\n",
    "    df_metrics = pd.DataFrame(columns=pd.MultiIndex.from_tuples(cols), index=n_words_list)\n",
    "\n",
    "    for method, words_dict in files.items():\n",
    "        for n_words, info in words_dict.items():\n",
    "            for metric in metrics:\n",
    "                df_metrics.loc[n_words, (method, f'{metric}_mean')] = info[f'classification_report_{TEST_TRAIN}']['macro avg'][f'{metric}_mean']\n",
    "                df_metrics.loc[n_words, (method, f'{metric}_std')] = info[f'classification_report_{TEST_TRAIN}']['macro avg'][f'{metric}_std']\n",
    "    if baseline is not None:\n",
    "        for n_words in n_words_list:\n",
    "            for metric in metrics:\n",
    "                df_metrics.loc[n_words, ('baseline',f'{metric}_mean')] = baseline['macro avg'][f'{metric}_mean']\n",
    "                df_metrics.loc[n_words, ('baseline',f'{metric}_std')] = baseline['macro avg'][f'{metric}_std']\n",
    "\n",
    "    df_metrics.index = df_metrics.index.astype('int')\n",
    "    df_metrics = df_metrics.sort_index()\n",
    "    return df_metrics\n",
    "\n",
    "def plot_performance_metrics(df_metrics, metrics_to_plot, methods_to_plot):\n",
    "    for metric in metrics_to_plot:\n",
    "        fig, ax = plt.subplots(figsize=(9,5))\n",
    "\n",
    "        for method in methods_to_plot:\n",
    "            errbar = ax.errorbar(x=df_metrics.index, y=df_metrics.loc[:, (method, f'{metric}_mean')], yerr=df_metrics.loc[:, (method, f'{metric}_std')], label=methods_renames[method], alpha=0.5, linestyle='dashed', fmt='--', barsabove=True, elinewidth=2, linewidth=1)\n",
    "            errbar[-1][0].set_linestyle(':')\n",
    "\n",
    "        fig.tight_layout()\n",
    "        ax.set_xlabel('# of kept words')\n",
    "        ax.set_ylabel(f'{metric}')\n",
    "        ax.legend(loc=\"lower right\")\n",
    "        plt.title(f'MIT-BIH {metric} vs # of kept features.')\n",
    "        plt.savefig(f'../figures/mit_bih_half/mit_bih_perf_{metric}_{TEST_TRAIN}.pdf', bbox_inches=\"tight\")\n",
    "        plt.close()        "
   ]
  },
  {
   "cell_type": "code",
   "execution_count": 13,
   "metadata": {},
   "outputs": [],
   "source": [
    "df, method_list, n_words_list = get_extractor_timings(files)\n",
    "df.to_csv(f'../figures/csv_outputs/timings/mit_bih_n_features_timings.csv', sep=';')\n",
    "plot_extractors_timings(df)"
   ]
  },
  {
   "cell_type": "code",
   "execution_count": 15,
   "metadata": {},
   "outputs": [],
   "source": [
    "df_dict = get_selected_words_per_extractor_per_n_words(files, vocabulary, n_words_list, method_list)\n",
    "correlations_dict, jaccard_score_dict = get_similarity_metrics(df_dict)"
   ]
  },
  {
   "cell_type": "code",
   "execution_count": 16,
   "metadata": {},
   "outputs": [],
   "source": [
    "# shap_correlations = compare_shap_over_n_words_set_similarity(correlations_dict, n_words_list, method_list)\n",
    "shap_jaccard = compare_shap_over_n_words_set_similarity(jaccard_score_dict, n_words_list, method_list)\n",
    "# shap_correlations.to_csv('../results/tables/mit_bih_correlations.csv', sep=';')\n",
    "shap_jaccard.to_csv('../figures/csv_outputs/jaccard/mit_bih_jaccard.csv', sep=';')"
   ]
  },
  {
   "cell_type": "code",
   "execution_count": 18,
   "metadata": {},
   "outputs": [],
   "source": [
    "with open('../results/mit_bih_baseline_half.json', 'r') as file:\n",
    "    baseline_mit_bih = json.load(file)"
   ]
  },
  {
   "cell_type": "code",
   "execution_count": 19,
   "metadata": {},
   "outputs": [],
   "source": [
    "df_metrics = compare_performance_over_n_words(files, n_words_list, method_list, baseline=baseline_mit_bih[f'classification_report_{TEST_TRAIN}'])\n",
    "df_metrics.to_csv(f'../figures/csv_outputs/metrics/mit_bih_performance_{TEST_TRAIN}.csv', sep=';')"
   ]
  },
  {
   "cell_type": "code",
   "execution_count": 365,
   "metadata": {},
   "outputs": [],
   "source": [
    "methods = list(method_list)[:]\n",
    "methods.append('baseline')\n",
    "plot_performance_metrics(df_metrics, ['recall', 'precision', 'f1-score'], methods)"
   ]
  },
  {
   "cell_type": "code",
   "execution_count": 331,
   "metadata": {},
   "outputs": [],
   "source": [
    "jaccard_table = pd.read_csv('../results/tables/mit_bih_jaccard.csv', sep=';', index_col=0)\n",
    "jaccard_table.index.name = 'n_words'\n",
    "# jaccard_table = jaccard_table.drop(columns='lfs')"
   ]
  },
  {
   "cell_type": "code",
   "execution_count": 332,
   "metadata": {},
   "outputs": [
    {
     "name": "stdout",
     "output_type": "stream",
     "text": [
      "\\begin{table}\n",
      "\\centering\n",
      "\\caption{Jaccard score between Shapley values based method and the rest.}\n",
      "\\begin{tabular}{lrrr}\n",
      "\\toprule\n",
      "{} &   LFS &    MI &  F-stat \\\\\n",
      "n\\_words &       &       &         \\\\\n",
      "\\midrule\n",
      "1       & 0.000 & 1.000 &   1.000 \\\\\n",
      "2       & 0.000 & 0.333 &   0.333 \\\\\n",
      "3       & 0.200 & 0.500 &   0.500 \\\\\n",
      "4       & 0.143 & 0.600 &   0.600 \\\\\n",
      "5       & 0.250 & 0.667 &   0.667 \\\\\n",
      "6       & 0.200 & 0.714 &   0.714 \\\\\n",
      "7       & 0.400 & 0.556 &   0.556 \\\\\n",
      "8       & 0.455 & 0.778 &   0.778 \\\\\n",
      "9       & 0.385 & 0.636 &   0.636 \\\\\n",
      "10      & 0.538 & 0.667 &   0.818 \\\\\n",
      "11      & 0.692 & 0.833 &   0.833 \\\\\n",
      "12      & 0.846 & 1.000 &   1.000 \\\\\n",
      "\\bottomrule\n",
      "\\end{tabular}\n",
      "\\end{table}\n",
      "\n"
     ]
    }
   ],
   "source": [
    "with pd.option_context('display.float_format', '{:,.3f}'.format):\n",
    "    jaccard_table = jaccard_table.rename(columns=methods_renames)\n",
    "    print(jaccard_table.to_latex(caption='Jaccard score between Shapley values based method and the rest.'))"
   ]
  },
  {
   "cell_type": "code",
   "execution_count": 333,
   "metadata": {},
   "outputs": [
    {
     "name": "stdout",
     "output_type": "stream",
     "text": [
      "\\begin{table}\n",
      "\\centering\n",
      "\\caption{Jaccard score between the methods at 9 kept features.}\n",
      "\\begin{tabular}{lllll}\n",
      "\\toprule\n",
      "{} &  SHAP &   LFS &    MI & F-stat \\\\\n",
      "\\midrule\n",
      "SHAP   & 1.000 & 0.385 & 0.636 &  0.636 \\\\\n",
      "LFS    & 0.385 & 1.000 & 0.385 &  0.500 \\\\\n",
      "MI     & 0.636 & 0.385 & 1.000 &  0.800 \\\\\n",
      "F-stat & 0.636 & 0.500 & 0.800 &  1.000 \\\\\n",
      "\\bottomrule\n",
      "\\end{tabular}\n",
      "\\end{table}\n",
      "\n"
     ]
    }
   ],
   "source": [
    "jaccard_3000_df = jaccard_score_dict['9']\n",
    "jaccard_3000_df = jaccard_3000_df.rename(columns=methods_renames)\n",
    "jaccard_3000_df = jaccard_3000_df.rename(index=methods_renames)\n",
    "with pd.option_context('display.float_format', '{:,.3f}'.format):\n",
    "    print(jaccard_3000_df.to_latex(caption='Jaccard score between the methods at 9 kept features.'))\n"
   ]
  },
  {
   "cell_type": "code",
   "execution_count": null,
   "metadata": {},
   "outputs": [],
   "source": []
  }
 ],
 "metadata": {
  "kernelspec": {
   "display_name": "Python 3.9.10 64-bit",
   "language": "python",
   "name": "python3"
  },
  "language_info": {
   "codemirror_mode": {
    "name": "ipython",
    "version": 3
   },
   "file_extension": ".py",
   "mimetype": "text/x-python",
   "name": "python",
   "nbconvert_exporter": "python",
   "pygments_lexer": "ipython3",
   "version": "3.9.10"
  },
  "orig_nbformat": 4,
  "vscode": {
   "interpreter": {
    "hash": "aee8b7b246df8f9039afb4144a1f6fd8d2ca17a180786b69acc140d282b71a49"
   }
  }
 },
 "nbformat": 4,
 "nbformat_minor": 2
}
