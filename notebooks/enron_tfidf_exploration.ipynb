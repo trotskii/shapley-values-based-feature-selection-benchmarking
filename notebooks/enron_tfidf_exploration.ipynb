{
 "cells": [
  {
   "cell_type": "code",
   "execution_count": 5,
   "metadata": {},
   "outputs": [],
   "source": [
    "import pandas as pd \n",
    "import numpy as np \n",
    "import sklearn.feature_extraction.text as ft \n",
    "from sklearn.preprocessing import minmax_scale\n",
    "import nltk\n",
    "import sys \n",
    "from tqdm.notebook import tqdm\n",
    "from scipy.stats import entropy\n",
    "from sklearn.model_selection import train_test_split, cross_val_score\n",
    "from scipy.sparse import csr_matrix, csc_matrix\n",
    "from sklearn.feature_selection import SequentialFeatureSelector\n",
    "from sklearn.svm import SVC\n",
    "from sklearn.metrics import balanced_accuracy_score\n",
    "from sklearn.base import clone"
   ]
  },
  {
   "cell_type": "code",
   "execution_count": 2,
   "metadata": {},
   "outputs": [],
   "source": [
    "sys.path.insert(0, '../')\n",
    "from src.preprocessing.ctfidf import CTFIDFVectorizer\n",
    "import src.preprocessing.text_preprocessing as tp\n",
    "import src.preprocessing.feature_extraction.text.filtering as filter\n",
    "%load_ext autoreload\n",
    "%autoreload 2\n",
    "tqdm.pandas()"
   ]
  },
  {
   "cell_type": "code",
   "execution_count": 3,
   "metadata": {},
   "outputs": [
    {
     "data": {
      "application/vnd.jupyter.widget-view+json": {
       "model_id": "270ec669c3784feb8caa7842faff01a4",
       "version_major": 2,
       "version_minor": 0
      },
      "text/plain": [
       "  0%|          | 0/1000 [00:00<?, ?it/s]"
      ]
     },
     "metadata": {},
     "output_type": "display_data"
    }
   ],
   "source": [
    "df = pd.read_csv('../data/enron/enron_spam_data.csv', sep=',')\n",
    "df = df.fillna('')\n",
    "df = df.astype('str')\n",
    "df = df.sample(n=1000)\n",
    "df['Text'] = df.apply(lambda x: x['Subject'] + ', ' + x['Message'], axis=1)\n",
    "df['Label'] = np.where(df['Spam/Ham'].values == 'ham', 0, 1)\n",
    "df['Text'] = df['Text'].progress_apply(tp.normalize_text)"
   ]
  },
  {
   "cell_type": "code",
   "execution_count": 4,
   "metadata": {},
   "outputs": [],
   "source": [
    "count_vectorizer = ft.CountVectorizer()\n",
    "count_vectorizer.fit(df['Text'])\n",
    "counts = count_vectorizer.transform(df['Text'])\n",
    "vocabulary = count_vectorizer.get_feature_names_out()\n",
    "labels = df['Label']"
   ]
  },
  {
   "cell_type": "code",
   "execution_count": 8,
   "metadata": {},
   "outputs": [],
   "source": [
    "class CTFIDFFeatureExtractor(filter.BaseTextFeatureExtractor):\n",
    "    \"\"\"\n",
    "    Calculate feature strength according to ctfidf.\n",
    "    \"\"\"\n",
    "    def __init__(self):\n",
    "        self.feature_strength_metric = None \n",
    "    \n",
    "    def fit(self, df):\n",
    "        text_per_class = df.groupby(['Label'], as_index=False).agg({'Text': ' '.join})\n",
    "        count_vectorizer = ft.CountVectorizer().fit(text_per_class['Text'])\n",
    "        count = count_vectorizer.transform(text_per_class['Text'])\n",
    "\n",
    "        ctfidf = CTFIDFVectorizer().fit_transform(count, n_samples=df.shape[0]).toarray()\n",
    "        labels = text_per_class['Label'].unique()\n",
    "\n",
    "        feature_strength = []\n",
    "        for label in labels:\n",
    "            feature_strength.append(ctfidf[label])\n",
    "        self.feature_strength_metric = np.squeeze(np.maximum.reduce(feature_strength))\n",
    "\n",
    "    def transform(self, X):\n",
    "        \"\"\"\n",
    "        Transforms input to corresponding feature importance values\n",
    "        \"\"\"\n",
    "        X_t = X.copy()\n",
    "        feature_st_matrix = np.tile(self.feature_strength_metric, (X.shape[0], 1))\n",
    "        X_t = np.copyto(X_t, feature_st_matrix, where=X_t != 0)\n",
    "        \n",
    "        return X_t \n",
    "\n"
   ]
  },
  {
   "cell_type": "code",
   "execution_count": 9,
   "metadata": {},
   "outputs": [],
   "source": [
    "extractor = CTFIDFFeatureExtractor()\n",
    "extractor.fit(df)"
   ]
  },
  {
   "cell_type": "code",
   "execution_count": 17,
   "metadata": {},
   "outputs": [],
   "source": [
    "X, voc = extractor.filter_n_best(counts, 100, vocabulary)"
   ]
  },
  {
   "cell_type": "code",
   "execution_count": null,
   "metadata": {},
   "outputs": [],
   "source": []
  }
 ],
 "metadata": {
  "interpreter": {
   "hash": "aee8b7b246df8f9039afb4144a1f6fd8d2ca17a180786b69acc140d282b71a49"
  },
  "kernelspec": {
   "display_name": "Python 3.9.10 64-bit",
   "language": "python",
   "name": "python3"
  },
  "language_info": {
   "codemirror_mode": {
    "name": "ipython",
    "version": 3
   },
   "file_extension": ".py",
   "mimetype": "text/x-python",
   "name": "python",
   "nbconvert_exporter": "python",
   "pygments_lexer": "ipython3",
   "version": "3.9.10"
  },
  "orig_nbformat": 4
 },
 "nbformat": 4,
 "nbformat_minor": 2
}
