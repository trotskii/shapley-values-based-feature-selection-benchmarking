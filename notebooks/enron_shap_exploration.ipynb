{
 "cells": [
  {
   "cell_type": "code",
   "execution_count": 1,
   "metadata": {},
   "outputs": [],
   "source": [
    "import pandas as pd \n",
    "import numpy as np \n",
    "import sklearn.feature_extraction.text as ft \n",
    "import nltk\n",
    "import sys \n",
    "from tqdm.notebook import tqdm\n",
    "import shap\n",
    "from sklearn.svm import SVC\n",
    "import xgboost as xgb\n",
    "from sklearn.model_selection import train_test_split\n",
    "from sklearn.metrics import classification_report, confusion_matrix\n",
    "\n"
   ]
  },
  {
   "cell_type": "code",
   "execution_count": 2,
   "metadata": {},
   "outputs": [],
   "source": [
    "sys.path.insert(0, '../')\n",
    "import src.preprocessing.text_preprocessing as tp\n",
    "import src.preprocessing.feature_extraction.text.filtering as filter\n",
    "%load_ext autoreload\n",
    "%autoreload 2\n",
    "tqdm.pandas()"
   ]
  },
  {
   "cell_type": "code",
   "execution_count": 4,
   "metadata": {},
   "outputs": [
    {
     "data": {
      "application/vnd.jupyter.widget-view+json": {
       "model_id": "746dfbc840a54724913d6178c5a2bf9c",
       "version_major": 2,
       "version_minor": 0
      },
      "text/plain": [
       "  0%|          | 0/33716 [00:00<?, ?it/s]"
      ]
     },
     "metadata": {},
     "output_type": "display_data"
    }
   ],
   "source": [
    "df = pd.read_csv('../data/enron/enron_spam_data.csv', sep=',')\n",
    "df = df.fillna('')\n",
    "df = df.astype('str')\n",
    "df['Text'] = df.apply(lambda x: x['Subject'] + ', ' + x['Message'], axis=1)\n",
    "df['Label'] = np.where(df['Spam/Ham'].values == 'ham', 0, 1)\n",
    "df['Text'] = df['Text'].progress_apply(tp.normalize_text)"
   ]
  },
  {
   "cell_type": "code",
   "execution_count": 6,
   "metadata": {},
   "outputs": [],
   "source": [
    "import pickle\n",
    "\n",
    "with open('../words_per_class_dict.pkl', 'rb') as file:\n",
    "    words_per_class_dict = pickle.load(file)"
   ]
  },
  {
   "cell_type": "code",
   "execution_count": 7,
   "metadata": {},
   "outputs": [
    {
     "data": {
      "text/plain": [
       "dict_keys(['tfidf', 'term_strength', 'mi', 'chi2', 'shap'])"
      ]
     },
     "execution_count": 7,
     "metadata": {},
     "output_type": "execute_result"
    }
   ],
   "source": [
    "words_per_class_dict.keys()"
   ]
  },
  {
   "cell_type": "code",
   "execution_count": 8,
   "metadata": {},
   "outputs": [],
   "source": [
    "count_vectorizer = ft.CountVectorizer()\n",
    "count_vectorizer.fit(df['Text'])\n",
    "vocabulary = count_vectorizer.get_feature_names_out()"
   ]
  },
  {
   "cell_type": "code",
   "execution_count": 17,
   "metadata": {},
   "outputs": [],
   "source": [
    "test_df = pd.DataFrame(index=vocabulary, columns=['tfidf_0', 'tfidf_1', 'term_strength', 'mi', 'chi2', 'shap'])"
   ]
  },
  {
   "cell_type": "code",
   "execution_count": 22,
   "metadata": {},
   "outputs": [],
   "source": [
    "test_df.loc[words_per_class_dict['mi'][0], 'mi'] = 1\n",
    "test_df.loc[words_per_class_dict['tfidf'][0], 'tfidf_0'] = 1\n",
    "test_df.loc[words_per_class_dict['tfidf'][1], 'tfidf_1'] = 1\n",
    "test_df.loc[words_per_class_dict['term_strength'][0], 'term_strength'] = 1\n",
    "test_df.loc[words_per_class_dict['chi2'][0], 'chi2'] = 1\n",
    "test_df.loc[words_per_class_dict['shap'][0], 'shap'] = 1\n"
   ]
  },
  {
   "cell_type": "code",
   "execution_count": 24,
   "metadata": {},
   "outputs": [],
   "source": [
    "test_df = test_df.fillna(0)"
   ]
  },
  {
   "cell_type": "code",
   "execution_count": 26,
   "metadata": {},
   "outputs": [
    {
     "data": {
      "text/html": [
       "<div>\n",
       "<style scoped>\n",
       "    .dataframe tbody tr th:only-of-type {\n",
       "        vertical-align: middle;\n",
       "    }\n",
       "\n",
       "    .dataframe tbody tr th {\n",
       "        vertical-align: top;\n",
       "    }\n",
       "\n",
       "    .dataframe thead th {\n",
       "        text-align: right;\n",
       "    }\n",
       "</style>\n",
       "<table border=\"1\" class=\"dataframe\">\n",
       "  <thead>\n",
       "    <tr style=\"text-align: right;\">\n",
       "      <th></th>\n",
       "      <th>tfidf_0</th>\n",
       "      <th>tfidf_1</th>\n",
       "      <th>term_strength</th>\n",
       "      <th>mi</th>\n",
       "      <th>chi2</th>\n",
       "      <th>shap</th>\n",
       "    </tr>\n",
       "  </thead>\n",
       "  <tbody>\n",
       "    <tr>\n",
       "      <th>tfidf_0</th>\n",
       "      <td>1.000000</td>\n",
       "      <td>0.397905</td>\n",
       "      <td>0.821194</td>\n",
       "      <td>0.573907</td>\n",
       "      <td>0.543387</td>\n",
       "      <td>0.107588</td>\n",
       "    </tr>\n",
       "    <tr>\n",
       "      <th>tfidf_1</th>\n",
       "      <td>0.397905</td>\n",
       "      <td>1.000000</td>\n",
       "      <td>0.430798</td>\n",
       "      <td>0.560750</td>\n",
       "      <td>0.518259</td>\n",
       "      <td>0.106941</td>\n",
       "    </tr>\n",
       "    <tr>\n",
       "      <th>term_strength</th>\n",
       "      <td>0.821194</td>\n",
       "      <td>0.430798</td>\n",
       "      <td>1.000000</td>\n",
       "      <td>0.590947</td>\n",
       "      <td>0.539181</td>\n",
       "      <td>0.113196</td>\n",
       "    </tr>\n",
       "    <tr>\n",
       "      <th>mi</th>\n",
       "      <td>0.573907</td>\n",
       "      <td>0.560750</td>\n",
       "      <td>0.590947</td>\n",
       "      <td>1.000000</td>\n",
       "      <td>0.695987</td>\n",
       "      <td>0.109745</td>\n",
       "    </tr>\n",
       "    <tr>\n",
       "      <th>chi2</th>\n",
       "      <td>0.543387</td>\n",
       "      <td>0.518259</td>\n",
       "      <td>0.539181</td>\n",
       "      <td>0.695987</td>\n",
       "      <td>1.000000</td>\n",
       "      <td>0.101333</td>\n",
       "    </tr>\n",
       "    <tr>\n",
       "      <th>shap</th>\n",
       "      <td>0.107588</td>\n",
       "      <td>0.106941</td>\n",
       "      <td>0.113196</td>\n",
       "      <td>0.109745</td>\n",
       "      <td>0.101333</td>\n",
       "      <td>1.000000</td>\n",
       "    </tr>\n",
       "  </tbody>\n",
       "</table>\n",
       "</div>"
      ],
      "text/plain": [
       "                tfidf_0   tfidf_1  term_strength        mi      chi2      shap\n",
       "tfidf_0        1.000000  0.397905       0.821194  0.573907  0.543387  0.107588\n",
       "tfidf_1        0.397905  1.000000       0.430798  0.560750  0.518259  0.106941\n",
       "term_strength  0.821194  0.430798       1.000000  0.590947  0.539181  0.113196\n",
       "mi             0.573907  0.560750       0.590947  1.000000  0.695987  0.109745\n",
       "chi2           0.543387  0.518259       0.539181  0.695987  1.000000  0.101333\n",
       "shap           0.107588  0.106941       0.113196  0.109745  0.101333  1.000000"
      ]
     },
     "execution_count": 26,
     "metadata": {},
     "output_type": "execute_result"
    }
   ],
   "source": [
    "test_df.corr()"
   ]
  },
  {
   "cell_type": "code",
   "execution_count": 29,
   "metadata": {},
   "outputs": [],
   "source": [
    "from sklearn.metrics import jaccard_score"
   ]
  },
  {
   "cell_type": "code",
   "execution_count": 42,
   "metadata": {},
   "outputs": [
    {
     "data": {
      "text/plain": [
       "0.4211610886093939"
      ]
     },
     "execution_count": 42,
     "metadata": {},
     "output_type": "execute_result"
    }
   ],
   "source": [
    "jaccard_score(test_df['mi'], test_df['tfidf_1'])"
   ]
  },
  {
   "cell_type": "code",
   "execution_count": null,
   "metadata": {},
   "outputs": [],
   "source": []
  }
 ],
 "metadata": {
  "kernelspec": {
   "display_name": "Python 3.9.10 64-bit",
   "language": "python",
   "name": "python3"
  },
  "language_info": {
   "codemirror_mode": {
    "name": "ipython",
    "version": 3
   },
   "file_extension": ".py",
   "mimetype": "text/x-python",
   "name": "python",
   "nbconvert_exporter": "python",
   "pygments_lexer": "ipython3",
   "version": "3.9.10"
  },
  "orig_nbformat": 4,
  "vscode": {
   "interpreter": {
    "hash": "aee8b7b246df8f9039afb4144a1f6fd8d2ca17a180786b69acc140d282b71a49"
   }
  }
 },
 "nbformat": 4,
 "nbformat_minor": 2
}
