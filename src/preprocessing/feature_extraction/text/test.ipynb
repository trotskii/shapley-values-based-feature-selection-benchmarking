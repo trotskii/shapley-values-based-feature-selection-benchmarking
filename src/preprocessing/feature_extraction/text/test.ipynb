{
 "cells": [
  {
   "cell_type": "code",
   "execution_count": 1,
   "metadata": {},
   "outputs": [],
   "source": [
    "import pandas as pd \n",
    "import numpy as np\n",
    "from typing import Union\n",
    "from scipy.sparse import csr_matrix, csc_matrix\n",
    "\n",
    "# class TermStrengthFeatureExtractor:\n",
    "#     \"\"\"\n",
    "#     Calculates term strength according to http://mlwiki.org/index.php/Term_Strength\n",
    "#     \"\"\"\n",
    "#     def __init__(self):\n",
    "#         self.term_strength = {}\n",
    "    \n",
    "#     def fit(self, X, y):\n",
    "#         \"\"\"\n",
    "#         Fit feature extractor\n",
    "#         Arguments:\n",
    "#             X -  presense of word (binary output from CountVectorizer)\n",
    "#             y - array-like with class labels for X\n",
    "#         \"\"\"\n",
    "#         if isinstance(y, np.ndarray):\n",
    "#             classes = np.unique() \n",
    "#         elif isinstance(y, (pd.Series, pd.DataFrame)):\n",
    "#             classes = y.unique()\n",
    "        \n",
    "#         for cls in classes:\n",
    "#             idx = np.where(y == cls)[0] # might need [0] to unbox the tuple\n",
    "#             X[idx]\n",
    "            \n"
   ]
  },
  {
   "cell_type": "code",
   "execution_count": 20,
   "metadata": {},
   "outputs": [],
   "source": [
    "from scipy.special import comb"
   ]
  },
  {
   "cell_type": "code",
   "execution_count": 38,
   "metadata": {},
   "outputs": [],
   "source": [
    "test_arr = np.array([[0,1,0,0,0,1,0], [1,1,1,0,0,0,0], [1,1,0,0,0,1,1],  [1,1,0,1,0,1,0],  [1,1,0,1,0,1,1]])"
   ]
  },
  {
   "cell_type": "code",
   "execution_count": 39,
   "metadata": {},
   "outputs": [
    {
     "data": {
      "text/plain": [
       "array([[0, 1, 0, 0, 0, 1, 0],\n",
       "       [1, 1, 1, 0, 0, 0, 0],\n",
       "       [1, 1, 0, 0, 0, 1, 1],\n",
       "       [1, 1, 0, 1, 0, 1, 0],\n",
       "       [1, 1, 0, 1, 0, 1, 1]])"
      ]
     },
     "execution_count": 39,
     "metadata": {},
     "output_type": "execute_result"
    }
   ],
   "source": [
    "test_arr"
   ]
  },
  {
   "cell_type": "code",
   "execution_count": 40,
   "metadata": {},
   "outputs": [
    {
     "data": {
      "text/plain": [
       "0.0"
      ]
     },
     "execution_count": 40,
     "metadata": {},
     "output_type": "execute_result"
    }
   ],
   "source": [
    "comb(1,2)"
   ]
  },
  {
   "cell_type": "markdown",
   "metadata": {},
   "source": [
    "w1 = 6/10\n",
    "w2 = 10/10\n",
    "w3 = 0\n",
    "w4 = 3/9\n",
    "w5 = 0\n",
    "w6 = 6/10\n",
    "w7 = 1/7"
   ]
  },
  {
   "cell_type": "code",
   "execution_count": 41,
   "metadata": {},
   "outputs": [],
   "source": [
    "csr = csr_matrix(test_arr)"
   ]
  },
  {
   "cell_type": "code",
   "execution_count": 114,
   "metadata": {},
   "outputs": [],
   "source": [
    "# test_csr = csr[[0,1]]\n",
    "test_csc = csc_matrix(csr)"
   ]
  },
  {
   "cell_type": "code",
   "execution_count": 81,
   "metadata": {},
   "outputs": [
    {
     "data": {
      "text/plain": [
       "array([[0.],\n",
       "       [1.],\n",
       "       [1.],\n",
       "       [1.],\n",
       "       [1.]])"
      ]
     },
     "execution_count": 81,
     "metadata": {},
     "output_type": "execute_result"
    }
   ],
   "source": [
    "test_csc[:,0].toarray()"
   ]
  },
  {
   "cell_type": "code",
   "execution_count": 42,
   "metadata": {},
   "outputs": [],
   "source": [
    "n_t = csr.sum(axis=0)"
   ]
  },
  {
   "cell_type": "code",
   "execution_count": 43,
   "metadata": {},
   "outputs": [
    {
     "data": {
      "text/plain": [
       "matrix([[4, 5, 1, 2, 0, 4, 2]])"
      ]
     },
     "execution_count": 43,
     "metadata": {},
     "output_type": "execute_result"
    }
   ],
   "source": [
    "n_t"
   ]
  },
  {
   "cell_type": "code",
   "execution_count": 45,
   "metadata": {},
   "outputs": [
    {
     "name": "stderr",
     "output_type": "stream",
     "text": [
      "/var/folders/x2/lgb5qv_x50577yqt3p7rmydm0000gn/T/ipykernel_2469/3388928679.py:1: RuntimeWarning: invalid value encountered in true_divide\n",
      "  s_t = np.nan_to_num(comb(n_t, 2) / (comb(csr.shape[0], 2) - comb(csr.shape[0]-n_t, 2)))\n"
     ]
    }
   ],
   "source": [
    "s_t = np.nan_to_num(comb(n_t, 2) / (comb(csr.shape[0], 2) - comb(csr.shape[0]-n_t, 2)))"
   ]
  },
  {
   "cell_type": "code",
   "execution_count": 82,
   "metadata": {},
   "outputs": [],
   "source": [
    "def csr_row_set_nz_to_val(csr, row, value=0):\n",
    "    \"\"\"Set all nonzero elements (elements currently in the sparsity pattern)\n",
    "    to the given value. Useful to set to 0 mostly.\n",
    "    \"\"\"\n",
    "    if not isinstance(csr, csr_matrix):\n",
    "        raise ValueError('Matrix given must be of CSR format.')\n",
    "    csr.data[csr.indptr[row]:csr.indptr[row+1]] = value\n",
    "    return csr\n",
    "\n",
    "def csc_col_set_nz_to_val(csc, col, value=1):\n",
    "    if not isinstance(csc, csc_matrix):\n",
    "        raise ValueError('Matrix given must be of CSC format')\n",
    "    csc.data[csc.indptr[col]:csc.indptr[col+1]] = value\n",
    "    return csc "
   ]
  },
  {
   "cell_type": "code",
   "execution_count": 115,
   "metadata": {},
   "outputs": [
    {
     "data": {
      "text/plain": [
       "array([[0, 1, 0, 0, 0, 1, 0],\n",
       "       [1, 1, 1, 0, 0, 0, 0],\n",
       "       [1, 1, 0, 0, 0, 1, 1],\n",
       "       [1, 1, 0, 1, 0, 1, 0],\n",
       "       [1, 1, 0, 1, 0, 1, 1]])"
      ]
     },
     "execution_count": 115,
     "metadata": {},
     "output_type": "execute_result"
    }
   ],
   "source": [
    "test_csc.toarray()"
   ]
  },
  {
   "cell_type": "code",
   "execution_count": 116,
   "metadata": {},
   "outputs": [],
   "source": [
    "test = csc_col_set_nz_to_val(test_csc, 0, 0.5)"
   ]
  },
  {
   "cell_type": "markdown",
   "metadata": {},
   "source": []
  },
  {
   "cell_type": "code",
   "execution_count": 118,
   "metadata": {},
   "outputs": [
    {
     "data": {
      "text/plain": [
       "array([[0, 1, 0, 0, 0, 1, 0],\n",
       "       [0, 1, 1, 0, 0, 0, 0],\n",
       "       [0, 1, 0, 0, 0, 1, 1],\n",
       "       [0, 1, 0, 1, 0, 1, 0],\n",
       "       [0, 1, 0, 1, 0, 1, 1]])"
      ]
     },
     "execution_count": 118,
     "metadata": {},
     "output_type": "execute_result"
    }
   ],
   "source": [
    "test.toarray()"
   ]
  },
  {
   "cell_type": "code",
   "execution_count": 121,
   "metadata": {},
   "outputs": [],
   "source": [
    "test = test.asfptype()"
   ]
  },
  {
   "cell_type": "code",
   "execution_count": 122,
   "metadata": {},
   "outputs": [
    {
     "data": {
      "text/plain": [
       "array([[0., 1., 0., 0., 0., 1., 0.],\n",
       "       [0., 1., 1., 0., 0., 0., 0.],\n",
       "       [0., 1., 0., 0., 0., 1., 1.],\n",
       "       [0., 1., 0., 1., 0., 1., 0.],\n",
       "       [0., 1., 0., 1., 0., 1., 1.]])"
      ]
     },
     "execution_count": 122,
     "metadata": {},
     "output_type": "execute_result"
    }
   ],
   "source": [
    "test.toarray()"
   ]
  },
  {
   "cell_type": "code",
   "execution_count": null,
   "metadata": {},
   "outputs": [],
   "source": []
  }
 ],
 "metadata": {
  "kernelspec": {
   "display_name": "Python 3.9.10 64-bit",
   "language": "python",
   "name": "python3"
  },
  "language_info": {
   "codemirror_mode": {
    "name": "ipython",
    "version": 3
   },
   "file_extension": ".py",
   "mimetype": "text/x-python",
   "name": "python",
   "nbconvert_exporter": "python",
   "pygments_lexer": "ipython3",
   "version": "3.9.10"
  },
  "orig_nbformat": 4,
  "vscode": {
   "interpreter": {
    "hash": "aee8b7b246df8f9039afb4144a1f6fd8d2ca17a180786b69acc140d282b71a49"
   }
  }
 },
 "nbformat": 4,
 "nbformat_minor": 2
}
